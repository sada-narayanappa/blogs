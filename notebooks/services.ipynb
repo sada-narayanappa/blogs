{
 "cells": [
  {
   "cell_type": "code",
   "execution_count": 1,
   "id": "4f56744f",
   "metadata": {},
   "outputs": [
    {
     "name": "stdout",
     "output_type": "stream",
     "text": [
      "Overwriting ../services.py\n"
     ]
    }
   ],
   "source": [
    "%%writefile ../services.py\n",
    "#!/usr/bin/env python \n",
    "\n",
    "#*** DO NOT EDIT - GENERATED FROM services.ipynb ****\n",
    "\n",
    "from django.conf import settings\n",
    "import os, json, sys, datetime, geoapp, logging\n",
    "from  mangorest.mango import webapi\n",
    "\n",
    "BASE = \"/opt/data/data/articles/raw/\"\n",
    "logger = logging.getLogger( \"app.blogs\")\n",
    "\n",
    "#--------------------------------------------------------------------------------------------------------\n",
    "FILES_DIRS = (\"blogs/static/blogs/data/\", \"static/docs/\", BASE)\n",
    "UPLOADS_DIR = \"blogs/static/blogs/uploads/\"\n",
    "\n",
    "def find(file, dirs=FILES_DIRS):\n",
    "    if os.path.exists(file):\n",
    "        return file\n",
    "    for d in dirs:\n",
    "        f = os.path.join(d, file)\n",
    "        if os.path.exists(f):\n",
    "            return f\n",
    "    return None\n",
    "#--------------------------------------------------------------------------------------------------------\n",
    "@webapi(\"/blogs/getarticle\")\n",
    "def getarticle(request, file=\"\", viewid=\"\", dirs=FILES_DIRS, **kwargs):\n",
    "    file = file or viewid\n",
    "    f = find(file)\n",
    "    if (not f):\n",
    "        return f'{file} - does not exist!!!';\n",
    "\n",
    "    cont = geoapp.utils.readfile(f )\n",
    "    meta = json.loads(geoapp.utils.readfile(f+\".meta\", \"{}\"))\n",
    "    title= meta.get('title', '')\n",
    "\n",
    "    ret = { \"title\": title, \"content\": cont , \"meta\": meta, \"dir\": os.path.dirname(f) }\n",
    "    return json.dumps(ret)\n",
    "#--------------------------------------------------------------------------------------------------------    \n",
    "@webapi(\"/blogs/savearticle\")\n",
    "def savearticle(request, user=\"noname\", cfilename=\"\", title=\"\", contents=\"\", **kwargs):\n",
    "    if (not contents or not cfilename):\n",
    "        return \"No contents or cflename!!\"\n",
    "\n",
    "    file = find(cfilename)\n",
    "    if (not file):\n",
    "        #file = f\"{user}-{datetime.datetime.utcnow().replace(microsecond=0).isoformat()}.md\"\n",
    "        if (os.path.exists(FILES_DIRS[0])):   # First preference to blogs directory link if it exits\n",
    "            file = FILES_DIRS[0] + cfilename\n",
    "        else:\n",
    "            file = FILES_DIRS[1] + cfilename\n",
    "\n",
    "    logger.info(f\"===> Saving {file} ...\")\n",
    "    indexed = file+\".mdd\"\n",
    "    if os.path.exists(indexed):\n",
    "        os.remove(indexed)\n",
    "\n",
    "    meta = file+\".meta\"\n",
    "    if os.path.exists(meta):\n",
    "        os.remove(meta)\n",
    "\n",
    "    dirn = os.path.dirname(cfilename)\n",
    "    if(not os.path.exists(dirn) ): \n",
    "        os.makedirs( dirn ) \n",
    "\n",
    "    # Upload file attachments if any\n",
    "    files = geoapp.utils.uploadFiles(request, UPLOADS_DIR )\n",
    "    kwargs['files']    = files\n",
    "    kwargs[\"filename\"] = cfilename\n",
    "    kwargs[\"title\"]    = title\n",
    "    kwargs[\"user\"]     = user\n",
    "    kwargs[\"date\"]     = f\"{datetime.datetime.utcnow()}\" \n",
    "\n",
    "    with open(meta, \"w\") as f:\n",
    "        f.write(json.dumps(kwargs, indent = 4) )\n",
    "\n",
    "    with open(cfilename, \"wb\") as f:\n",
    "        f.write(contents.encode('utf-8'))\n",
    "\n",
    "    #os.system(f'/opt/utils/filestoes.py -d {FILES_DIRS[0]} -t \"*.md\" &')\n",
    "        \n",
    "    return f'Saved: {json.dumps(kwargs, indent = 4)} '"
   ]
  },
  {
   "cell_type": "code",
   "execution_count": null,
   "id": "8b12118b",
   "metadata": {},
   "outputs": [],
   "source": []
  }
 ],
 "metadata": {
  "hide_input": false,
  "kernelspec": {
   "display_name": "Python 3 (ipykernel)",
   "language": "python",
   "name": "python3"
  },
  "language_info": {
   "codemirror_mode": {
    "name": "ipython",
    "version": 3
   },
   "file_extension": ".py",
   "mimetype": "text/x-python",
   "name": "python",
   "nbconvert_exporter": "python",
   "pygments_lexer": "ipython3",
   "version": "3.8.3"
  },
  "toc": {
   "base_numbering": 1,
   "nav_menu": {},
   "number_sections": true,
   "sideBar": true,
   "skip_h1_title": false,
   "title_cell": "Table of Contents",
   "title_sidebar": "Contents",
   "toc_cell": false,
   "toc_position": {},
   "toc_section_display": true,
   "toc_window_display": false
  },
  "varInspector": {
   "cols": {
    "lenName": 16,
    "lenType": 16,
    "lenVar": 40
   },
   "kernels_config": {
    "python": {
     "delete_cmd_postfix": "",
     "delete_cmd_prefix": "del ",
     "library": "var_list.py",
     "varRefreshCmd": "print(var_dic_list())"
    },
    "r": {
     "delete_cmd_postfix": ") ",
     "delete_cmd_prefix": "rm(",
     "library": "var_list.r",
     "varRefreshCmd": "cat(var_dic_list()) "
    }
   },
   "types_to_exclude": [
    "module",
    "function",
    "builtin_function_or_method",
    "instance",
    "_Feature"
   ],
   "window_display": false
  },
  "vscode": {
   "interpreter": {
    "hash": "949777d72b0d2535278d3dc13498b2535136f6dfe0678499012e853ee9abcab1"
   }
  }
 },
 "nbformat": 4,
 "nbformat_minor": 5
}
